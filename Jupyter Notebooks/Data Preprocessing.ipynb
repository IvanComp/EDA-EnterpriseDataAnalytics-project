{
 "cells": [
  {
   "cell_type": "markdown",
   "metadata": {},
   "source": [
    "Importing libraries"
   ]
  },
  {
   "cell_type": "code",
   "execution_count": 105,
   "metadata": {},
   "outputs": [],
   "source": [
    "import os\n",
    "import glob\n",
    "import pandas as pd \n",
    "import csv\n",
    "import collections\n",
    "import pprint\n",
    "\n"
   ]
  },
  {
   "cell_type": "markdown",
   "metadata": {},
   "source": [
    "Identification and quantification of data"
   ]
  },
  {
   "cell_type": "code",
   "execution_count": 80,
   "metadata": {},
   "outputs": [
    {
     "name": "stdout",
     "output_type": "stream",
     "text": [
      "There are 24 .csv file. The total size of the data set are : 175.22 MB\n",
      "Files:\n"
     ]
    },
    {
     "data": {
      "text/plain": [
       "['201803_demo.it_201905139_2232439_powerelectricity.csv',\n",
       " '201803_demo.it_201905139_2302655_Presence.csv',\n",
       " '201803_demo.it_201905139_230269_ReedSensor.csv',\n",
       " '201803_demo.it_201905140_0012800_LuxMeter.csv',\n",
       " '201804_demo.it_201905139_2241977_powerelectricity.csv',\n",
       " '201804_demo.it_201905139_2302312_Presence.csv',\n",
       " '201804_demo.it_201905139_2303629_ReedSensor.csv',\n",
       " '201804_demo.it_201905140_0013825_LuxMeter.csv',\n",
       " '201805_demo.it_201905139_2241968_powerelectricity.csv',\n",
       " '201805_demo.it_201905139_2302581_Presence.csv',\n",
       " '201805_demo.it_201905139_2302679_ReedSensor.csv',\n",
       " '201805_demo.it_201905140_0013843_LuxMeter.csv',\n",
       " '201902_demo.it_201905139_1610271_LuxMeter.csv',\n",
       " '201902_demo.it_201905139_1612442_Presence.csv',\n",
       " '201902_demo.it_201905139_1710863_ReedSensor.csv',\n",
       " '201902_demo.it_201905139_1716752_Environmental.csv',\n",
       " '201903_demo.it_201905139_1443721_LuxMeter.csv',\n",
       " '201903_demo.it_201905139_1615869_Presence.csv',\n",
       " '201903_demo.it_201905139_1706199_ReedSensor.csv',\n",
       " '201903_demo.it_201905139_1716973_Environmental.csv',\n",
       " '201904_demo.it_201905139_1442492_LuxMeter.csv',\n",
       " '201904_demo.it_201905139_1615548_Presence.csv',\n",
       " '201904_demo.it_201905139_1705203_ReedSensor.csv',\n",
       " '201904_demo.it_201905139_1716654_Environmental.csv']"
      ]
     },
     "execution_count": 80,
     "metadata": {},
     "output_type": "execute_result"
    }
   ],
   "source": [
    "data_directory = '../Ivan Compagnucci/EDA-EnterpriseDataAnalytics-project/Data/Initial data/'\n",
    "raw_files = os.listdir(data_directory)\n",
    "\n",
    "path, dirs, files = next(os.walk(data_directory))\n",
    "file_count = len(files)\n",
    "\n",
    "fso = com.Dispatch(\"Scripting.FileSystemObject\")\n",
    "folder = fso.GetFolder(data_directory)\n",
    "MB = 1024 * 1024.0\n",
    "print(\"There are\",file_count,\".csv file. The total size of the data set are : %.2f MB\" % (folder.Size / MB))\n",
    "print(\"Files:\") \n",
    "raw_files"
   ]
  },
  {
   "cell_type": "code",
   "execution_count": null,
   "metadata": {},
   "outputs": [],
   "source": []
  },
  {
   "cell_type": "markdown",
   "metadata": {},
   "source": [
    "Divide the .csv files according to the type of sensor"
   ]
  },
  {
   "cell_type": "code",
   "execution_count": 65,
   "metadata": {},
   "outputs": [
    {
     "name": "stdout",
     "output_type": "stream",
     "text": [
      "The number of Powerelectricty .csv files are: 3 \n",
      "Powerelectricty: ['201803_demo.it_201905139_2232439_powerelectricity.csv', '201804_demo.it_201905139_2241977_powerelectricity.csv', '201805_demo.it_201905139_2241968_powerelectricity.csv']          \n",
      "\n",
      "The number of Presence .csv files are: 6 \n",
      "Presence: ['201803_demo.it_201905139_2302655_Presence.csv', '201804_demo.it_201905139_2302312_Presence.csv', '201805_demo.it_201905139_2302581_Presence.csv', '201902_demo.it_201905139_1612442_Presence.csv', '201903_demo.it_201905139_1615869_Presence.csv', '201904_demo.it_201905139_1615548_Presence.csv']         \n",
      "\n",
      "The number of Reedsensor .csv files are: 6 \n",
      "Reedsensor: ['201803_demo.it_201905139_230269_ReedSensor.csv', '201804_demo.it_201905139_2303629_ReedSensor.csv', '201805_demo.it_201905139_2302679_ReedSensor.csv', '201902_demo.it_201905139_1710863_ReedSensor.csv', '201903_demo.it_201905139_1706199_ReedSensor.csv', '201904_demo.it_201905139_1705203_ReedSensor.csv']         \n",
      "\n",
      "The number of Luxmeter .csv files are: 6 \n",
      "Luxmeter: ['201803_demo.it_201905140_0012800_LuxMeter.csv', '201804_demo.it_201905140_0013825_LuxMeter.csv', '201805_demo.it_201905140_0013843_LuxMeter.csv', '201902_demo.it_201905139_1610271_LuxMeter.csv', '201903_demo.it_201905139_1443721_LuxMeter.csv', '201904_demo.it_201905139_1442492_LuxMeter.csv']         \n",
      "\n",
      "The number of Environmental .csv files are: 3 \n",
      "Environmental: ['201902_demo.it_201905139_1716752_Environmental.csv', '201903_demo.it_201905139_1716973_Environmental.csv', '201904_demo.it_201905139_1716654_Environmental.csv']        \n",
      "\n",
      "The total number of divided csv is:24 \n"
     ]
    }
   ],
   "source": [
    "powerelectricity = sorted([f for f in raw_files if \"powerelectricity\" in f])\n",
    "powerelectricity_len = len(powerelectricity)\n",
    "\n",
    "presence = sorted([f for f in raw_files if \"Presence\" in f])\n",
    "presence_len = len(presence)\n",
    "\n",
    "reedsensor = sorted([f for f in raw_files if \"ReedSensor\" in f])\n",
    "reedsensor_len = len(reedsensor)\n",
    "\n",
    "luxmeter = sorted([f for f in raw_files if \"LuxMeter\" in f])\n",
    "luxmeter_len = len(luxmeter)\n",
    "\n",
    "environmental = sorted([f for f in raw_files if \"Environmental\" in f])\n",
    "environmental_len = len(environmental)\n",
    "\n",
    "totalcsvnum = powerelectricity_len + presence_len + reedsensor_len + luxmeter_len +environmental_len\n",
    "\n",
    "print(  \"The number of Powerelectricty .csv files are:\",powerelectricity_len,  f'\\nPowerelectricty: {powerelectricity}  \\\n",
    "        \\n\\nThe number of Presence .csv files are: {presence_len} \\nPresence: {presence} \\\n",
    "        \\n\\nThe number of Reedsensor .csv files are: {reedsensor_len} \\nReedsensor: {reedsensor} \\\n",
    "        \\n\\nThe number of Luxmeter .csv files are: {luxmeter_len} \\nLuxmeter: {luxmeter} \\\n",
    "        \\n\\nThe number of Environmental .csv files are: {environmental_len} \\nEnvironmental: {environmental}\\\n",
    "        \\n\\nThe total number of divided csv is:{totalcsvnum} ')\n",
    "\n",
    "sensors  = {'reedsensor':reedsensor, 'luxmeter':luxmeter, 'environmental':environmental, 'presence':presence, 'powerelectricity':powerelectricity}"
   ]
  },
  {
   "cell_type": "markdown",
   "metadata": {},
   "source": [
    "Create a new folder for the new processed files"
   ]
  },
  {
   "cell_type": "code",
   "execution_count": 82,
   "metadata": {},
   "outputs": [
    {
     "name": "stdout",
     "output_type": "stream",
     "text": [
      "Creation of the directory ../Ivan Compagnucci/EDA-EnterpriseDataAnalytics-project/Data/Merged data/ failed\n"
     ]
    }
   ],
   "source": [
    "Newdata_directory = '../Ivan Compagnucci/EDA-EnterpriseDataAnalytics-project/Data/Merged data/'\n",
    "\n",
    "try:\n",
    "    os.mkdir(Newdata_directory)\n",
    "except OSError:\n",
    "    print (\"Creation of the directory %s failed\" % Newdata_directory)\n",
    "else:\n",
    "    print (\"Successfully created the directory %s \" % Newdata_directory)"
   ]
  },
  {
   "cell_type": "code",
   "execution_count": null,
   "metadata": {},
   "outputs": [],
   "source": []
  },
  {
   "cell_type": "markdown",
   "metadata": {},
   "source": [
    "Adding the .csv files combined based on the type of sensor in the directory created"
   ]
  },
  {
   "cell_type": "code",
   "execution_count": 95,
   "metadata": {
    "scrolled": false
   },
   "outputs": [
    {
     "name": "stdout",
     "output_type": "stream",
     "text": [
      "Merged reedsensor.csv files\n",
      "Merged luxmeter.csv files\n",
      "Merged environmental.csv files\n",
      "Merged presence.csv files\n",
      "Merged powerelectricity.csv files\n"
     ]
    }
   ],
   "source": [
    "for sensor_name, sensor_files in sensors.items():\n",
    "    df = pd.concat([pd.read_csv(data_directory + f, sep=';') for f in sensor_files])\n",
    "    df.drop(df.columns[[-1,]], axis=1, inplace=True)\n",
    "    df.to_csv(Newdata_directory + sensor_name + '.csv', index=False)\n",
    "    print(f'Merged {sensor_name}.csv files')"
   ]
  },
  {
   "cell_type": "markdown",
   "metadata": {},
   "source": [
    "The files luxmeter.csv and presence.csv have data for both 2018 and 2019"
   ]
  },
  {
   "cell_type": "code",
   "execution_count": 109,
   "metadata": {},
   "outputs": [
    {
     "ename": "Error",
     "evalue": "iterator should return strings, not bytes (did you open the file in text mode?)",
     "output_type": "error",
     "traceback": [
      "\u001b[1;31m---------------------------------------------------------------------------\u001b[0m",
      "\u001b[1;31mError\u001b[0m                                     Traceback (most recent call last)",
      "\u001b[1;32m<ipython-input-109-6ebb861d3d5b>\u001b[0m in \u001b[0;36m<module>\u001b[1;34m\u001b[0m\n\u001b[0;32m      5\u001b[0m     \u001b[0mroot\u001b[0m \u001b[1;33m=\u001b[0m \u001b[0mcsv\u001b[0m\u001b[1;33m.\u001b[0m\u001b[0mreader\u001b[0m\u001b[1;33m(\u001b[0m\u001b[0mfp\u001b[0m\u001b[1;33m,\u001b[0m \u001b[0mdelimiter\u001b[0m\u001b[1;33m=\u001b[0m\u001b[1;34m','\u001b[0m\u001b[1;33m)\u001b[0m\u001b[1;33m\u001b[0m\u001b[1;33m\u001b[0m\u001b[0m\n\u001b[0;32m      6\u001b[0m     \u001b[0mresult\u001b[0m \u001b[1;33m=\u001b[0m \u001b[0mcollections\u001b[0m\u001b[1;33m.\u001b[0m\u001b[0mdefaultdict\u001b[0m\u001b[1;33m(\u001b[0m\u001b[0mlist\u001b[0m\u001b[1;33m)\u001b[0m\u001b[1;33m\u001b[0m\u001b[1;33m\u001b[0m\u001b[0m\n\u001b[1;32m----> 7\u001b[1;33m     \u001b[1;32mfor\u001b[0m \u001b[0mrow\u001b[0m \u001b[1;32min\u001b[0m \u001b[0mroot\u001b[0m\u001b[1;33m:\u001b[0m\u001b[1;33m\u001b[0m\u001b[1;33m\u001b[0m\u001b[0m\n\u001b[0m\u001b[0;32m      8\u001b[0m         \u001b[0myear\u001b[0m \u001b[1;33m=\u001b[0m \u001b[0mrow\u001b[0m\u001b[1;33m[\u001b[0m\u001b[1;36m0\u001b[0m\u001b[1;33m]\u001b[0m\u001b[1;33m.\u001b[0m\u001b[0msplit\u001b[0m\u001b[1;33m(\u001b[0m\u001b[1;34m\"-\"\u001b[0m\u001b[1;33m)\u001b[0m\u001b[1;33m[\u001b[0m\u001b[1;36m0\u001b[0m\u001b[1;33m]\u001b[0m\u001b[1;33m\u001b[0m\u001b[1;33m\u001b[0m\u001b[0m\n\u001b[0;32m      9\u001b[0m         \u001b[0mresult\u001b[0m\u001b[1;33m[\u001b[0m\u001b[0myear\u001b[0m\u001b[1;33m]\u001b[0m\u001b[1;33m.\u001b[0m\u001b[0mappend\u001b[0m\u001b[1;33m(\u001b[0m\u001b[0mrow\u001b[0m\u001b[1;33m)\u001b[0m\u001b[1;33m\u001b[0m\u001b[1;33m\u001b[0m\u001b[0m\n",
      "\u001b[1;31mError\u001b[0m: iterator should return strings, not bytes (did you open the file in text mode?)"
     ]
    }
   ],
   "source": [
    "a = '../Ivan Compagnucci/EDA-EnterpriseDataAnalytics-project/Data/Merged data/luxmeter.csv'\n",
    "b = '../Ivan Compagnucci/EDA-EnterpriseDataAnalytics-project/Data/Merged data/presence.csv'\n",
    "\n",
    "with open(a, \"rb\") as fp:\n",
    "    root = csv.reader(fp, delimiter=',')\n",
    "    result = collections.defaultdict(list)\n",
    "    for row in root:\n",
    "        year = row[0].split(\"-\")[0]\n",
    "        result[year].append(row)\n",
    "\n",
    "print (\"Result:-\",result,)\n",
    "\n",
    "for i,j in result.items():\n",
    "    file_path = \"%s%s.csv\"%(Newdata_directory, i)\n",
    "    with open(file_path, 'wb') as fp:\n",
    "        writer = csv.writer(fp, delimiter=',')\n",
    "        writer.writerows(j)"
   ]
  },
  {
   "cell_type": "code",
   "execution_count": null,
   "metadata": {},
   "outputs": [],
   "source": []
  },
  {
   "cell_type": "code",
   "execution_count": null,
   "metadata": {},
   "outputs": [],
   "source": []
  },
  {
   "cell_type": "code",
   "execution_count": null,
   "metadata": {},
   "outputs": [],
   "source": []
  },
  {
   "cell_type": "code",
   "execution_count": null,
   "metadata": {},
   "outputs": [],
   "source": []
  },
  {
   "cell_type": "code",
   "execution_count": null,
   "metadata": {},
   "outputs": [],
   "source": []
  },
  {
   "cell_type": "code",
   "execution_count": null,
   "metadata": {},
   "outputs": [],
   "source": []
  },
  {
   "cell_type": "code",
   "execution_count": null,
   "metadata": {},
   "outputs": [],
   "source": []
  },
  {
   "cell_type": "code",
   "execution_count": null,
   "metadata": {},
   "outputs": [],
   "source": []
  },
  {
   "cell_type": "code",
   "execution_count": null,
   "metadata": {},
   "outputs": [],
   "source": []
  },
  {
   "cell_type": "code",
   "execution_count": null,
   "metadata": {},
   "outputs": [],
   "source": []
  },
  {
   "cell_type": "code",
   "execution_count": null,
   "metadata": {},
   "outputs": [],
   "source": []
  },
  {
   "cell_type": "code",
   "execution_count": null,
   "metadata": {},
   "outputs": [],
   "source": []
  },
  {
   "cell_type": "code",
   "execution_count": null,
   "metadata": {},
   "outputs": [],
   "source": []
  },
  {
   "cell_type": "code",
   "execution_count": null,
   "metadata": {},
   "outputs": [],
   "source": []
  },
  {
   "cell_type": "code",
   "execution_count": null,
   "metadata": {},
   "outputs": [],
   "source": []
  },
  {
   "cell_type": "code",
   "execution_count": null,
   "metadata": {},
   "outputs": [],
   "source": []
  },
  {
   "cell_type": "code",
   "execution_count": null,
   "metadata": {},
   "outputs": [],
   "source": []
  },
  {
   "cell_type": "code",
   "execution_count": null,
   "metadata": {},
   "outputs": [],
   "source": []
  },
  {
   "cell_type": "code",
   "execution_count": null,
   "metadata": {},
   "outputs": [],
   "source": []
  },
  {
   "cell_type": "code",
   "execution_count": null,
   "metadata": {},
   "outputs": [],
   "source": []
  },
  {
   "cell_type": "code",
   "execution_count": null,
   "metadata": {},
   "outputs": [],
   "source": []
  },
  {
   "cell_type": "code",
   "execution_count": null,
   "metadata": {},
   "outputs": [],
   "source": []
  },
  {
   "cell_type": "code",
   "execution_count": null,
   "metadata": {},
   "outputs": [],
   "source": []
  },
  {
   "cell_type": "code",
   "execution_count": null,
   "metadata": {},
   "outputs": [],
   "source": []
  },
  {
   "cell_type": "code",
   "execution_count": null,
   "metadata": {},
   "outputs": [],
   "source": []
  },
  {
   "cell_type": "code",
   "execution_count": null,
   "metadata": {},
   "outputs": [],
   "source": []
  },
  {
   "cell_type": "code",
   "execution_count": null,
   "metadata": {},
   "outputs": [],
   "source": []
  },
  {
   "cell_type": "code",
   "execution_count": null,
   "metadata": {},
   "outputs": [],
   "source": []
  },
  {
   "cell_type": "code",
   "execution_count": null,
   "metadata": {},
   "outputs": [],
   "source": []
  },
  {
   "cell_type": "code",
   "execution_count": null,
   "metadata": {},
   "outputs": [],
   "source": []
  },
  {
   "cell_type": "code",
   "execution_count": null,
   "metadata": {},
   "outputs": [],
   "source": []
  },
  {
   "cell_type": "code",
   "execution_count": null,
   "metadata": {},
   "outputs": [],
   "source": []
  },
  {
   "cell_type": "code",
   "execution_count": null,
   "metadata": {},
   "outputs": [],
   "source": []
  }
 ],
 "metadata": {
  "kernelspec": {
   "display_name": "Python 3",
   "language": "python",
   "name": "python3"
  },
  "language_info": {
   "codemirror_mode": {
    "name": "ipython",
    "version": 3
   },
   "file_extension": ".py",
   "mimetype": "text/x-python",
   "name": "python",
   "nbconvert_exporter": "python",
   "pygments_lexer": "ipython3",
   "version": "3.7.4"
  }
 },
 "nbformat": 4,
 "nbformat_minor": 2
}

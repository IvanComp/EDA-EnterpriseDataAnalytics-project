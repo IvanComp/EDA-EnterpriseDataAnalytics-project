{
 "cells": [
  {
   "cell_type": "markdown",
   "metadata": {},
   "source": [
    "First, we need to initialize PySpark and all the libraries needed"
   ]
  },
  {
   "cell_type": "code",
   "execution_count": 68,
   "metadata": {},
   "outputs": [
    {
     "name": "stdout",
     "output_type": "stream",
     "text": [
      "+-----+\n",
      "|hello|\n",
      "+-----+\n",
      "|spark|\n",
      "+-----+\n",
      "\n"
     ]
    }
   ],
   "source": [
    "import os\n",
    "import pandas as pd\n",
    "import numpy as np\n",
    "import seaborn as sns\n",
    "import matplotlib.pyplot as plt\n",
    "from pyspark.ml import Pipeline\n",
    "from pyspark.ml.regression import RandomForestRegressor, GBTRegressor, LinearRegression\n",
    "from pyspark.ml.feature import VectorIndexer\n",
    "from pyspark.ml.evaluation import RegressionEvaluator\n",
    "from pyspark.ml.feature import VectorAssembler\n",
    "import findspark\n",
    "findspark.init()\n",
    "\n",
    "import pyspark \n",
    "from pyspark.sql import SparkSession\n",
    "spark = SparkSession.builder.getOrCreate()\n",
    "\n",
    "df = spark.sql('''select 'spark' as hello ''')\n",
    "df.show()"
   ]
  },
  {
   "cell_type": "markdown",
   "metadata": {},
   "source": [
    "\n",
    "Let's now calculate the temperature trend in the 3 months of February, March and April"
   ]
  },
  {
   "cell_type": "code",
   "execution_count": 73,
   "metadata": {
    "scrolled": true
   },
   "outputs": [
    {
     "data": {
      "image/png": "[encoded data removed]",
      "text/plain": [
       "<Figure size 720x504 with 1 Axes>"
      ]
     },
     "metadata": {
      "needs_background": "light"
     },
     "output_type": "display_data"
    }
   ],
   "source": [
    "import numpy\n",
    "df = pd.read_csv(\"../Ivan Compagnucci/EDA-EnterpriseDataAnalytics-project/Data/Prediction data/environmental.csv\")\n",
    "\n",
    "df.plot(x='Month', y='environmental_temperature', style='o',figsize=(10,7))  \n",
    "plt.title('Environmental temperature in 3 months')  \n",
    "plt.xlabel('Month', size=12)  \n",
    "plt.ylabel('Temperature', size=12) \n",
    "\n",
    "plt.show()"
   ]
  },
  {
   "cell_type": "markdown",
   "metadata": {},
   "source": [
    "Seeing the trend of temperatures during the months of February, March and April we can see (as expected) an increase in the average temperature.\n",
    "Now we will divide the dataset per month and we will calculate the average of the environmental temperature for each month"
   ]
  },
  {
   "cell_type": "code",
   "execution_count": 80,
   "metadata": {},
   "outputs": [
    {
     "name": "stdout",
     "output_type": "stream",
     "text": [
      "File separated by year!\n",
      "The average environmental temperature in Febraury was: 21.55947390802531\n",
      "The average environmental temperature in March was: 22.16208463949834\n",
      "The average environmental temperature in April was: 22.53172182967599\n"
     ]
    }
   ],
   "source": [
    "dfFEB = df[df['Month'] == 'Feb']\n",
    "dfMAR = df[df['Month'] == 'Mar']\n",
    "dfAPR = df[df['Month'] == 'Apr']\n",
    "\n",
    "dfMAR.to_csv(\"../Ivan Compagnucci/EDA-EnterpriseDataAnalytics-project/Data/Prediction data/environmentalMAR.csv\", index=False)\n",
    "dfFEB.to_csv(\"../Ivan Compagnucci/EDA-EnterpriseDataAnalytics-project/Data/Prediction data/environmentalFEB.csv\", index=False)\n",
    "dfAPR.to_csv(\"../Ivan Compagnucci/EDA-EnterpriseDataAnalytics-project/Data/Prediction data/environmentalAPR.csv\", index=False)\n",
    "\n",
    "print(\"File separated by year!\")\n",
    "\n",
    "TempAVGFEB = dfFEB[\"environmental_temperature\"].mean()\n",
    "TempAVGMAR = dfMAR[\"environmental_temperature\"].mean()\n",
    "TempAVGAPR = dfAPR[\"environmental_temperature\"].mean()\n",
    "\n",
    "print(\"The average environmental temperature in Febraury was:\",TempAVGFEB)\n",
    "print(\"The average environmental temperature in March was:\",TempAVGMAR)\n",
    "print(\"The average environmental temperature in April was:\",TempAVGAPR)"
   ]
  },
  {
   "cell_type": "markdown",
   "metadata": {},
   "source": [
    "To apply linear regression, I have to change the nominal variables of the months to numeric variables. \n",
    "Meanwhile, let's eliminate useless columns for each month."
   ]
  },
  {
   "cell_type": "code",
   "execution_count": 81,
   "metadata": {
    "scrolled": true
   },
   "outputs": [
    {
     "data": {
      "text/html": [
       "<div>\n",
       "<style scoped>\n",
       "    .dataframe tbody tr th:only-of-type {\n",
       "        vertical-align: middle;\n",
       "    }\n",
       "\n",
       "    .dataframe tbody tr th {\n",
       "        vertical-align: top;\n",
       "    }\n",
       "\n",
       "    .dataframe thead th {\n",
       "        text-align: right;\n",
       "    }\n",
       "</style>\n",
       "<table border=\"1\" class=\"dataframe\">\n",
       "  <thead>\n",
       "    <tr style=\"text-align: right;\">\n",
       "      <th></th>\n",
       "      <th>absolute_humidity</th>\n",
       "      <th>device_temperature</th>\n",
       "      <th>dew_point</th>\n",
       "      <th>environmental_temperature</th>\n",
       "      <th>pressure</th>\n",
       "      <th>relative_humidity</th>\n",
       "      <th>sequence_number</th>\n",
       "      <th>Month</th>\n",
       "      <th>Day</th>\n",
       "      <th>Time</th>\n",
       "    </tr>\n",
       "  </thead>\n",
       "  <tbody>\n",
       "    <tr>\n",
       "      <td>0</td>\n",
       "      <td>8.8</td>\n",
       "      <td>4.0</td>\n",
       "      <td>9.6</td>\n",
       "      <td>21.1</td>\n",
       "      <td>99716.0</td>\n",
       "      <td>48.0</td>\n",
       "      <td>1.0</td>\n",
       "      <td>2</td>\n",
       "      <td>2</td>\n",
       "      <td>09:24:09</td>\n",
       "    </tr>\n",
       "    <tr>\n",
       "      <td>1</td>\n",
       "      <td>8.8</td>\n",
       "      <td>4.0</td>\n",
       "      <td>9.6</td>\n",
       "      <td>21.1</td>\n",
       "      <td>99715.0</td>\n",
       "      <td>48.0</td>\n",
       "      <td>2.0</td>\n",
       "      <td>2</td>\n",
       "      <td>2</td>\n",
       "      <td>09:26:09</td>\n",
       "    </tr>\n",
       "    <tr>\n",
       "      <td>2</td>\n",
       "      <td>8.8</td>\n",
       "      <td>4.0</td>\n",
       "      <td>9.6</td>\n",
       "      <td>21.1</td>\n",
       "      <td>99713.0</td>\n",
       "      <td>48.0</td>\n",
       "      <td>3.0</td>\n",
       "      <td>2</td>\n",
       "      <td>2</td>\n",
       "      <td>09:28:10</td>\n",
       "    </tr>\n",
       "    <tr>\n",
       "      <td>3</td>\n",
       "      <td>8.8</td>\n",
       "      <td>4.0</td>\n",
       "      <td>9.6</td>\n",
       "      <td>21.1</td>\n",
       "      <td>99722.0</td>\n",
       "      <td>48.0</td>\n",
       "      <td>4.0</td>\n",
       "      <td>2</td>\n",
       "      <td>2</td>\n",
       "      <td>09:30:10</td>\n",
       "    </tr>\n",
       "    <tr>\n",
       "      <td>4</td>\n",
       "      <td>8.8</td>\n",
       "      <td>4.0</td>\n",
       "      <td>9.6</td>\n",
       "      <td>21.1</td>\n",
       "      <td>99724.0</td>\n",
       "      <td>48.0</td>\n",
       "      <td>5.0</td>\n",
       "      <td>2</td>\n",
       "      <td>2</td>\n",
       "      <td>09:32:11</td>\n",
       "    </tr>\n",
       "    <tr>\n",
       "      <td>...</td>\n",
       "      <td>...</td>\n",
       "      <td>...</td>\n",
       "      <td>...</td>\n",
       "      <td>...</td>\n",
       "      <td>...</td>\n",
       "      <td>...</td>\n",
       "      <td>...</td>\n",
       "      <td>...</td>\n",
       "      <td>...</td>\n",
       "      <td>...</td>\n",
       "    </tr>\n",
       "    <tr>\n",
       "      <td>48039</td>\n",
       "      <td>10.4</td>\n",
       "      <td>7.0</td>\n",
       "      <td>12.2</td>\n",
       "      <td>22.5</td>\n",
       "      <td>101126.0</td>\n",
       "      <td>52.0</td>\n",
       "      <td>34.0</td>\n",
       "      <td>4</td>\n",
       "      <td>30</td>\n",
       "      <td>23:51:39</td>\n",
       "    </tr>\n",
       "    <tr>\n",
       "      <td>48040</td>\n",
       "      <td>10.4</td>\n",
       "      <td>7.0</td>\n",
       "      <td>12.2</td>\n",
       "      <td>22.5</td>\n",
       "      <td>101122.0</td>\n",
       "      <td>52.0</td>\n",
       "      <td>35.0</td>\n",
       "      <td>4</td>\n",
       "      <td>30</td>\n",
       "      <td>23:53:40</td>\n",
       "    </tr>\n",
       "    <tr>\n",
       "      <td>48041</td>\n",
       "      <td>10.4</td>\n",
       "      <td>7.0</td>\n",
       "      <td>12.2</td>\n",
       "      <td>22.5</td>\n",
       "      <td>101129.0</td>\n",
       "      <td>52.0</td>\n",
       "      <td>36.0</td>\n",
       "      <td>4</td>\n",
       "      <td>30</td>\n",
       "      <td>23:55:40</td>\n",
       "    </tr>\n",
       "    <tr>\n",
       "      <td>48042</td>\n",
       "      <td>10.4</td>\n",
       "      <td>7.0</td>\n",
       "      <td>12.2</td>\n",
       "      <td>22.5</td>\n",
       "      <td>101126.0</td>\n",
       "      <td>52.0</td>\n",
       "      <td>37.0</td>\n",
       "      <td>4</td>\n",
       "      <td>30</td>\n",
       "      <td>23:57:40</td>\n",
       "    </tr>\n",
       "    <tr>\n",
       "      <td>48043</td>\n",
       "      <td>10.4</td>\n",
       "      <td>7.0</td>\n",
       "      <td>12.2</td>\n",
       "      <td>22.5</td>\n",
       "      <td>101125.0</td>\n",
       "      <td>52.0</td>\n",
       "      <td>38.0</td>\n",
       "      <td>4</td>\n",
       "      <td>30</td>\n",
       "      <td>23:59:41</td>\n",
       "    </tr>\n",
       "  </tbody>\n",
       "</table>\n",
       "<p>48044 rows × 10 columns</p>\n",
       "</div>"
      ],
      "text/plain": [
       "       absolute_humidity  device_temperature  dew_point  \\\n",
       "0                    8.8                 4.0        9.6   \n",
       "1                    8.8                 4.0        9.6   \n",
       "2                    8.8                 4.0        9.6   \n",
       "3                    8.8                 4.0        9.6   \n",
       "4                    8.8                 4.0        9.6   \n",
       "...                  ...                 ...        ...   \n",
       "48039               10.4                 7.0       12.2   \n",
       "48040               10.4                 7.0       12.2   \n",
       "48041               10.4                 7.0       12.2   \n",
       "48042               10.4                 7.0       12.2   \n",
       "48043               10.4                 7.0       12.2   \n",
       "\n",
       "       environmental_temperature  pressure  relative_humidity  \\\n",
       "0                           21.1   99716.0               48.0   \n",
       "1                           21.1   99715.0               48.0   \n",
       "2                           21.1   99713.0               48.0   \n",
       "3                           21.1   99722.0               48.0   \n",
       "4                           21.1   99724.0               48.0   \n",
       "...                          ...       ...                ...   \n",
       "48039                       22.5  101126.0               52.0   \n",
       "48040                       22.5  101122.0               52.0   \n",
       "48041                       22.5  101129.0               52.0   \n",
       "48042                       22.5  101126.0               52.0   \n",
       "48043                       22.5  101125.0               52.0   \n",
       "\n",
       "       sequence_number  Month  Day      Time  \n",
       "0                  1.0      2    2  09:24:09  \n",
       "1                  2.0      2    2  09:26:09  \n",
       "2                  3.0      2    2  09:28:10  \n",
       "3                  4.0      2    2  09:30:10  \n",
       "4                  5.0      2    2  09:32:11  \n",
       "...                ...    ...  ...       ...  \n",
       "48039             34.0      4   30  23:51:39  \n",
       "48040             35.0      4   30  23:53:40  \n",
       "48041             36.0      4   30  23:55:40  \n",
       "48042             37.0      4   30  23:57:40  \n",
       "48043             38.0      4   30  23:59:41  \n",
       "\n",
       "[48044 rows x 10 columns]"
      ]
     },
     "execution_count": 81,
     "metadata": {},
     "output_type": "execute_result"
    }
   ],
   "source": [
    "dfFEB= pd.read_csv(\"../Ivan Compagnucci/EDA-EnterpriseDataAnalytics-project/Data/Prediction data/environmentalFEB.csv\")\n",
    "dfFEB['srtDate'] = pd.to_datetime(dfFEB['srtDate'],utc=True)\n",
    "dfFEB['Month'] = dfFEB['srtDate'].dt.month\n",
    "dfFEB['Time'] = dfFEB['srtDate'].dt.strftime(\"%H:%M:%S\")\n",
    "dfFEB.to_csv(\"../Ivan Compagnucci/EDA-EnterpriseDataAnalytics-project/Data/Prediction data/environmentalFEB.csv\", index=False)\n",
    "dfFEB= pd.read_csv(\"../Ivan Compagnucci/EDA-EnterpriseDataAnalytics-project/Data/Prediction data/environmentalFEB.csv\", usecols=['absolute_humidity','device_temperature','dew_point','environmental_temperature','pressure','relative_humidity','sequence_number','Month','Day','Time'])\n",
    "dfFEB.to_csv(\"../Ivan Compagnucci/EDA-EnterpriseDataAnalytics-project/Data/Prediction data/environmentalFEB.csv\",index=False)\n",
    "\n",
    "dfMAR= pd.read_csv(\"../Ivan Compagnucci/EDA-EnterpriseDataAnalytics-project/Data/Prediction data/environmentalMAR.csv\")\n",
    "dfMAR['srtDate'] = pd.to_datetime(dfMAR['srtDate'],utc=True)\n",
    "dfMAR['Month'] = dfMAR['srtDate'].dt.month\n",
    "dfMAR['Time'] = dfMAR['srtDate'].dt.strftime(\"%H:%M:%S\")\n",
    "dfMAR.to_csv(\"../Ivan Compagnucci/EDA-EnterpriseDataAnalytics-project/Data/Prediction data/environmentalMAR.csv\", index=False)\n",
    "dfMAR= pd.read_csv(\"../Ivan Compagnucci/EDA-EnterpriseDataAnalytics-project/Data/Prediction data/environmentalMAR.csv\", usecols=['absolute_humidity','device_temperature','dew_point','environmental_temperature','pressure','relative_humidity','sequence_number','Month','Day','Time'])\n",
    "dfMAR.to_csv(\"../Ivan Compagnucci/EDA-EnterpriseDataAnalytics-project/Data/Prediction data/environmentalMAR.csv\",index=False)\n",
    "\n",
    "dfAPR= pd.read_csv(\"../Ivan Compagnucci/EDA-EnterpriseDataAnalytics-project/Data/Prediction data/environmentalAPR.csv\")\n",
    "dfAPR['srtDate'] = pd.to_datetime(dfAPR['srtDate'],utc=True)\n",
    "dfAPR['Month'] = dfAPR['srtDate'].dt.month\n",
    "dfAPR['Time'] = dfAPR['srtDate'].dt.strftime(\"%H:%M:%S\")\n",
    "dfAPR.to_csv(\"../Ivan Compagnucci/EDA-EnterpriseDataAnalytics-project/Data/Prediction data/environmentalAPR.csv\", index=False)\n",
    "dfAPR= pd.read_csv(\"../Ivan Compagnucci/EDA-EnterpriseDataAnalytics-project/Data/Prediction data/environmentalAPR.csv\", usecols=['absolute_humidity','device_temperature','dew_point','environmental_temperature','pressure','relative_humidity','sequence_number','Month','Day','Time'])\n",
    "dfAPR.to_csv(\"../Ivan Compagnucci/EDA-EnterpriseDataAnalytics-project/Data/Prediction data/environmentalAPR.csv\",index=False)\n",
    "\n",
    "df= pd.read_csv(\"../Ivan Compagnucci/EDA-EnterpriseDataAnalytics-project/Data/Prediction data/environmental.csv\")\n",
    "df['srtDate'] = pd.to_datetime(df['srtDate'],utc=True)\n",
    "df['Month'] = df['srtDate'].dt.month\n",
    "df['Time'] = df['srtDate'].dt.strftime(\"%H:%M:%S\")\n",
    "df.to_csv(\"../Ivan Compagnucci/EDA-EnterpriseDataAnalytics-project/Data/Prediction data/environmental.csv\",index=False)\n",
    "df= pd.read_csv(\"../Ivan Compagnucci/EDA-EnterpriseDataAnalytics-project/Data/Prediction data/environmental.csv\", usecols=['absolute_humidity','device_temperature','dew_point','environmental_temperature','pressure','relative_humidity','sequence_number','Month','Day','Time'])\n",
    "df.to_csv(\"../Ivan Compagnucci/EDA-EnterpriseDataAnalytics-project/Data/Prediction data/environmental.csv\",index=False)\n",
    "df "
   ]
  },
  {
   "cell_type": "markdown",
   "metadata": {},
   "source": [
    "Now, let's use import the **PySpark** features for our prediction:\n",
    "<ul>\n",
    "  <li><b>Pipeline:</b> From pyspark.ml, ML Pipelines provide a uniform set of high-level APIs built on top of DataFrames that help users create and tune practical machine learning pipelines. </li>\n",
    "  <li><b>From pyspark.ml.regression</b> A set of different linear regression algorithms (RandomForestRegressor, GBTRegressor, LinearRegression)</li>\n",
    "  <li><b>From pyspark.ml.feature</b> VectorIndexer and VectorAssembler for extract,transform e select relevant value</li>\n",
    "  <li><b>From pyspark.ml.evaluation</b> import Regression Evaluator for the evaluation of the regression models </li>\n",
    "</ul>"
   ]
  },
  {
   "cell_type": "code",
   "execution_count": 100,
   "metadata": {},
   "outputs": [],
   "source": [
    "from pyspark.ml import Pipeline\n",
    "from pyspark import SparkConf, SparkContext\n",
    "from pyspark.sql import SQLContext\n",
    "from pyspark.ml.regression import RandomForestRegressor, GBTRegressor, LinearRegression\n",
    "from pyspark.ml.feature import VectorIndexer, VectorAssembler\n",
    "from pyspark.ml.evaluation import RegressionEvaluator\n",
    "from pyspark.ml.linalg import Vectors  \n",
    "from pyspark.ml.feature import VectorAssembler "
   ]
  },
  {
   "cell_type": "code",
   "execution_count": 82,
   "metadata": {},
   "outputs": [
    {
     "name": "stdout",
     "output_type": "stream",
     "text": [
      "+-----------------+------------------+---------+-------------------------+--------+-----------------+---------------+-----+---+--------+\n",
      "|absolute_humidity|device_temperature|dew_point|environmental_temperature|pressure|relative_humidity|sequence_number|Month|Day|    Time|\n",
      "+-----------------+------------------+---------+-------------------------+--------+-----------------+---------------+-----+---+--------+\n",
      "|              8.8|               4.0|      9.6|                     21.1| 99716.0|             48.0|            1.0|    2|  2|09:24:09|\n",
      "|              8.8|               4.0|      9.6|                     21.1| 99715.0|             48.0|            2.0|    2|  2|09:26:09|\n",
      "|              8.8|               4.0|      9.6|                     21.1| 99713.0|             48.0|            3.0|    2|  2|09:28:10|\n",
      "|              8.8|               4.0|      9.6|                     21.1| 99722.0|             48.0|            4.0|    2|  2|09:30:10|\n",
      "|              8.8|               4.0|      9.6|                     21.1| 99724.0|             48.0|            5.0|    2|  2|09:32:11|\n",
      "|              8.8|               4.0|      9.6|                     21.1| 99746.0|             48.0|            6.0|    2|  2|09:34:11|\n",
      "|              8.8|               4.0|      9.6|                     21.1| 99752.0|             48.0|            7.0|    2|  2|09:36:11|\n",
      "|              8.8|               4.0|      9.6|                     21.1| 99753.0|             48.0|            8.0|    2|  2|09:38:11|\n",
      "|              8.8|               4.0|      9.6|                     21.1| 99750.0|             48.0|            9.0|    2|  2|09:40:11|\n",
      "|              8.8|               4.0|      9.6|                     21.1| 99756.0|             48.0|           10.0|    2|  2|09:42:12|\n",
      "+-----------------+------------------+---------+-------------------------+--------+-----------------+---------------+-----+---+--------+\n",
      "only showing top 10 rows\n",
      "\n"
     ]
    }
   ],
   "source": [
    "#create spark dataframe of input csv file \n",
    "df=spark.read.csv('../Ivan Compagnucci/EDA-EnterpriseDataAnalytics-project/Data/Prediction data/environmental.csv'\n",
    "                  ,inferSchema=True,header=True) \n",
    "df.show(10) \n"
   ]
  },
  {
   "cell_type": "code",
   "execution_count": 96,
   "metadata": {},
   "outputs": [
    {
     "name": "stdout",
     "output_type": "stream",
     "text": [
      "Row(absolute_humidity=8.8, device_temperature=4.0, dew_point=9.6, environmental_temperature=21.1, pressure=99716.0, relative_humidity=48.0, sequence_number=1.0, Month=2, Day=2, Time='09:24:09', Time of event=18394.0)\n",
      "\n",
      "\n",
      "Row(absolute_humidity=8.8, device_temperature=4.0, dew_point=9.6, environmental_temperature=21.1, pressure=99715.0, relative_humidity=48.0, sequence_number=2.0, Month=2, Day=2, Time='09:26:09', Time of event=13005.0)\n",
      "\n",
      "\n",
      "Row(absolute_humidity=8.8, device_temperature=4.0, dew_point=9.6, environmental_temperature=21.1, pressure=99713.0, relative_humidity=48.0, sequence_number=3.0, Month=2, Day=2, Time='09:28:10', Time of event=32023.0)\n",
      "\n",
      "\n",
      "Row(absolute_humidity=8.8, device_temperature=4.0, dew_point=9.6, environmental_temperature=21.1, pressure=99722.0, relative_humidity=48.0, sequence_number=4.0, Month=2, Day=2, Time='09:30:10', Time of event=23769.0)\n",
      "\n",
      "\n",
      "Row(absolute_humidity=8.8, device_temperature=4.0, dew_point=9.6, environmental_temperature=21.1, pressure=99724.0, relative_humidity=48.0, sequence_number=5.0, Month=2, Day=2, Time='09:32:11', Time of event=20879.0)\n",
      "\n",
      "\n"
     ]
    }
   ],
   "source": [
    "from pyspark.ml.feature import StringIndexer \n",
    "#to work on the features, spark MLlib expects every value to be in numeric form \n",
    "#feature 'Time is string datatype \n",
    "#Creating vectors from features \n",
    "#Apache MLlib takes input if vector form \n",
    "indexer=StringIndexer(inputCol='Time',outputCol='Time of event') \n",
    "indexed=indexer.fit(df).transform(df) \n",
    "  \n",
    "#above code will convert string to numeric feature and create a new dataframe \n",
    "#new dataframe contains a new feature 'cruise_cat' and can be used further \n",
    "#feature cruise_cat is now vectorized and can be used to fed to model \n",
    "for item in indexed.head(5): \n",
    "    print(item) \n",
    "    print('\\n') \n"
   ]
  },
  {
   "cell_type": "code",
   "execution_count": 98,
   "metadata": {},
   "outputs": [
    {
     "name": "stdout",
     "output_type": "stream",
     "text": [
      "+--------------------+-------------------------+\n",
      "|            features|environmental_temperature|\n",
      "+--------------------+-------------------------+\n",
      "|[8.8,4.0,9.6,21.1...|                     21.1|\n",
      "|[8.8,4.0,9.6,21.1...|                     21.1|\n",
      "|[8.8,4.0,9.6,21.1...|                     21.1|\n",
      "|[8.8,4.0,9.6,21.1...|                     21.1|\n",
      "|[8.8,4.0,9.6,21.1...|                     21.1|\n",
      "+--------------------+-------------------------+\n",
      "only showing top 5 rows\n",
      "\n"
     ]
    }
   ],
   "source": [
    "assembler=VectorAssembler(inputCols=['absolute_humidity', \n",
    " 'device_temperature', \n",
    " 'dew_point', \n",
    " 'environmental_temperature', \n",
    " 'pressure', \n",
    " 'relative_humidity', \n",
    " 'Month',\n",
    " 'Day',\n",
    " 'Time of event'],outputCol='features') \n",
    "\n",
    "output=assembler.transform(indexed) \n",
    "output.select('features','environmental_temperature').show(5) \n"
   ]
  },
  {
   "cell_type": "markdown",
   "metadata": {},
   "source": [
    "Now thanks to the __train_test_split method__ from the PySpark module, we can divide the datasets into two datasets: one for the train (80%) and the remaining data for the test (20%). \n",
    "This procedure will be performed on the .csv file containing all the months and on the 3 .csv files of the separate months."
   ]
  },
  {
   "cell_type": "code",
   "execution_count": 117,
   "metadata": {},
   "outputs": [
    {
     "name": "stdout",
     "output_type": "stream",
     "text": [
      "The variables value in the train set\n",
      "+-------+-------------------------+\n",
      "|summary|environmental_temperature|\n",
      "+-------+-------------------------+\n",
      "|  count|                    33611|\n",
      "|   mean|       22.103653565796947|\n",
      "| stddev|       0.8688591003908755|\n",
      "|    min|                     19.3|\n",
      "|    max|                     25.5|\n",
      "+-------+-------------------------+\n",
      "\n",
      "The variables value in the test set\n",
      "+-------+-------------------------+\n",
      "|summary|environmental_temperature|\n",
      "+-------+-------------------------+\n",
      "|  count|                    14433|\n",
      "|   mean|        22.09293979075701|\n",
      "| stddev|       0.8851560802226974|\n",
      "|    min|                     19.3|\n",
      "|    max|                     25.5|\n",
      "+-------+-------------------------+\n",
      "\n"
     ]
    }
   ],
   "source": [
    "#final data consist of features and label which is crew. \n",
    "final_data=output.select('features','environmental_temperature') \n",
    "#splitting data into train and test \n",
    "train_data,test_data=final_data.randomSplit([0.7,0.3]) \n",
    "print('The variables value in the train set')\n",
    "train_data.describe().show()\n",
    "\n",
    "print('The variables value in the test set')\n",
    "test_data.describe().show()"
   ]
  },
  {
   "cell_type": "code",
   "execution_count": 143,
   "metadata": {},
   "outputs": [
    {
     "name": "stdout",
     "output_type": "stream",
     "text": [
      "Rsquared Error : 1.0\n"
     ]
    }
   ],
   "source": [
    "\n",
    "#creating an object of class LinearRegression \n",
    "#object takes features and label as input arguments \n",
    "model_lr=LinearRegression(featuresCol='features',labelCol='environmental_temperature') \n",
    "#pass train_data to train model \n",
    "trained_model=model_lr.fit(train_data) \n",
    "#evaluating model trained for Rsquared error \n",
    "model_results=trained_model.evaluate(train_data) \n",
    "print('Rsquared Error :',model_results.r2) \n",
    "#R2 value shows accuracy of model is 92% \n",
    "#model accuracy is very good and can be use for predictive analysis \n"
   ]
  },
  {
   "cell_type": "code",
   "execution_count": 111,
   "metadata": {},
   "outputs": [
    {
     "name": "stdout",
     "output_type": "stream",
     "text": [
      "+--------------------+\n",
      "|            features|\n",
      "+--------------------+\n",
      "|[5.8,5.0,3.5,20.8...|\n",
      "|[6.0,5.0,4.0,20.8...|\n",
      "|[6.0,5.0,4.0,20.8...|\n",
      "|[6.2,5.0,4.4,20.8...|\n",
      "|[6.2,5.0,4.4,20.9...|\n",
      "+--------------------+\n",
      "only showing top 5 rows\n",
      "\n"
     ]
    }
   ],
   "source": [
    "#testing Model on unlabeled data \n",
    "#create unlabeled data from test_data \n",
    "#testing model on unlabeled data \n",
    "unlabeled_data=test_data.select('features') \n",
    "unlabeled_data.show(5) "
   ]
  },
  {
   "cell_type": "code",
   "execution_count": 149,
   "metadata": {},
   "outputs": [
    {
     "name": "stdout",
     "output_type": "stream",
     "text": [
      "+--------------------+------------------+\n",
      "|            features|        prediction|\n",
      "+--------------------+------------------+\n",
      "|[5.8,5.0,3.5,20.8...|20.799999999999116|\n",
      "|[6.0,5.0,4.0,20.8...|20.799999999999564|\n",
      "|[6.0,5.0,4.0,20.8...|20.799999999999564|\n",
      "|[6.2,5.0,4.4,20.8...|20.799999999999784|\n",
      "|[6.2,5.0,4.4,20.9...|20.899999999999345|\n",
      "|[6.2,5.0,4.5,20.9...| 20.89999999999962|\n",
      "|[6.2,5.0,4.5,20.9...| 20.89999999999962|\n",
      "|[6.2,5.0,4.6,21.1...| 21.09999999999907|\n",
      "|[6.3,4.0,4.8,20.4...| 20.39999999999981|\n",
      "|[6.3,4.0,4.8,20.4...|20.399999999999814|\n",
      "|[6.3,5.0,4.6,21.1...|21.099999999999408|\n",
      "|[6.3,5.0,4.7,21.2...| 21.19999999999924|\n",
      "|[6.3,5.0,4.7,21.2...|21.199999999999246|\n",
      "|[6.4,4.0,4.9,20.5...|20.500000000000014|\n",
      "|[6.4,4.0,4.9,20.5...|20.499999999999993|\n",
      "|[6.4,4.0,4.9,20.5...|20.500000000000014|\n",
      "|[6.4,4.0,4.9,20.5...| 20.50000000000003|\n",
      "|[6.4,4.0,4.9,20.5...| 20.49999999999999|\n",
      "|[6.4,4.0,4.9,20.5...| 20.50000000000003|\n",
      "|[6.4,4.0,4.9,20.5...| 20.50000000000001|\n",
      "+--------------------+------------------+\n",
      "only showing top 20 rows\n",
      "\n"
     ]
    }
   ],
   "source": [
    "predictions=trained_ship_model.transform(unlabeled_data) \n",
    "predictions.show() \n",
    "#below are the results of output from test data "
   ]
  },
  {
   "cell_type": "markdown",
   "metadata": {},
   "source": [
    "Now, let's save the predictions file in .csv format for adjustments and changes"
   ]
  },
  {
   "cell_type": "code",
   "execution_count": 164,
   "metadata": {
    "scrolled": false
   },
   "outputs": [],
   "source": [
    "predictions.toPandas().to_csv('../Ivan Compagnucci/EDA-EnterpriseDataAnalytics-project/Data/Prediction data/environmentalPrediction.csv')"
   ]
  }
 ],
 "metadata": {
  "kernelspec": {
   "display_name": "Python 3",
   "language": "python",
   "name": "python3"
  },
  "language_info": {
   "codemirror_mode": {
    "name": "ipython",
    "version": 3
   },
   "file_extension": ".py",
   "mimetype": "text/x-python",
   "name": "python",
   "nbconvert_exporter": "python",
   "pygments_lexer": "ipython3",
   "version": "3.7.4"
  }
 },
 "nbformat": 4,
 "nbformat_minor": 2
}

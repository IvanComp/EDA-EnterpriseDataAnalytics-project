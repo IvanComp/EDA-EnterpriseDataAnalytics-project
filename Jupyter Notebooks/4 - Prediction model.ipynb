{
 "cells": [
  {
   "cell_type": "code",
   "execution_count": 1,
   "metadata": {},
   "outputs": [],
   "source": [
    "import os\n",
    "import pandas as pd\n",
    "import numpy as np\n",
    "import seaborn as sns\n",
    "import matplotlib.pyplot as plt\n",
    "from pyspark.sql import SparkSession\n",
    "from pyspark.ml import Pipeline\n",
    "from pyspark.ml.regression import RandomForestRegressor, GBTRegressor, LinearRegression\n",
    "from pyspark.ml.feature import VectorIndexer\n",
    "from pyspark.ml.evaluation import RegressionEvaluator\n",
    "from pyspark.ml.feature import VectorAssembler"
   ]
  },
  {
   "cell_type": "markdown",
   "metadata": {},
   "source": [
    "\n",
    "Let's now calculate the temperature trend in the 3 months of February, March and April"
   ]
  },
  {
   "cell_type": "code",
   "execution_count": 2,
   "metadata": {},
   "outputs": [
    {
     "data": {
      "image/png": "[encoded data removed]",
      "text/plain": [
       "<Figure size 720x504 with 1 Axes>"
      ]
     },
     "metadata": {
      "needs_background": "light"
     },
     "output_type": "display_data"
    }
   ],
   "source": [
    "import numpy\n",
    "df = pd.read_csv(\"../Ivan Compagnucci/EDA-EnterpriseDataAnalytics-project/Data/Prediction data/environmental.csv\")\n",
    "\n",
    "df.plot(x='Month', y='environmental_temperature', style='o',figsize=(10,7))  \n",
    "plt.title('Environmental temperature in 3 months')  \n",
    "plt.xlabel('Month', size=12)  \n",
    "plt.ylabel('Temperature', size=12) \n",
    "\n",
    "plt.show()"
   ]
  },
  {
   "cell_type": "markdown",
   "metadata": {},
   "source": [
    "Seeing the trend of temperatures during the months of February, March and April we can see (as expected) an increase in the average temperature.\n",
    "Now we will divide the dataset per month and we will calculate the average of the environmental temperature for each month"
   ]
  },
  {
   "cell_type": "code",
   "execution_count": 3,
   "metadata": {},
   "outputs": [
    {
     "name": "stdout",
     "output_type": "stream",
     "text": [
      "File separated by year!\n",
      "The average environmental temperature in Febraury was: 21.55947390802531\n",
      "The average environmental temperature in March was: 22.16208463949834\n",
      "The average environmental temperature in April was: 22.53172182967599\n"
     ]
    }
   ],
   "source": [
    "dfFEB = df[df['Month'] == 'Feb']\n",
    "dfMAR = df[df['Month'] == 'Mar']\n",
    "dfAPR = df[df['Month'] == 'Apr']\n",
    "\n",
    "dfMAR.to_csv(\"../Ivan Compagnucci/EDA-EnterpriseDataAnalytics-project/Data/Prediction data/environmentalMAR.csv\", index=False)\n",
    "dfFEB.to_csv(\"../Ivan Compagnucci/EDA-EnterpriseDataAnalytics-project/Data/Prediction data/environmentalFEB.csv\", index=False)\n",
    "dfAPR.to_csv(\"../Ivan Compagnucci/EDA-EnterpriseDataAnalytics-project/Data/Prediction data/environmentalAPR.csv\", index=False)\n",
    "\n",
    "print(\"File separated by year!\")\n",
    "\n",
    "TempAVGFEB = dfFEB[\"environmental_temperature\"].mean()\n",
    "TempAVGMAR = dfMAR[\"environmental_temperature\"].mean()\n",
    "TempAVGAPR = dfAPR[\"environmental_temperature\"].mean()\n",
    "\n",
    "print(\"The average environmental temperature in Febraury was:\",TempAVGFEB)\n",
    "print(\"The average environmental temperature in March was:\",TempAVGMAR)\n",
    "print(\"The average environmental temperature in April was:\",TempAVGAPR)"
   ]
  },
  {
   "cell_type": "markdown",
   "metadata": {},
   "source": [
    "To apply linear regression, I have to change the nominal variables of the months to numeric variables. \n",
    "Meanwhile, let's eliminate useless columns for each month."
   ]
  },
  {
   "cell_type": "code",
   "execution_count": 4,
   "metadata": {},
   "outputs": [
    {
     "data": {
      "text/html": [
       "<div>\n",
       "<style scoped>\n",
       "    .dataframe tbody tr th:only-of-type {\n",
       "        vertical-align: middle;\n",
       "    }\n",
       "\n",
       "    .dataframe tbody tr th {\n",
       "        vertical-align: top;\n",
       "    }\n",
       "\n",
       "    .dataframe thead th {\n",
       "        text-align: right;\n",
       "    }\n",
       "</style>\n",
       "<table border=\"1\" class=\"dataframe\">\n",
       "  <thead>\n",
       "    <tr style=\"text-align: right;\">\n",
       "      <th></th>\n",
       "      <th>srtDate</th>\n",
       "      <th>environmental_temperature</th>\n",
       "      <th>Month</th>\n",
       "      <th>Day</th>\n",
       "    </tr>\n",
       "  </thead>\n",
       "  <tbody>\n",
       "    <tr>\n",
       "      <th>0</th>\n",
       "      <td>2019-02-02 09:24:09.972000+00:00</td>\n",
       "      <td>21.1</td>\n",
       "      <td>2</td>\n",
       "      <td>2</td>\n",
       "    </tr>\n",
       "    <tr>\n",
       "      <th>1</th>\n",
       "      <td>2019-02-02 09:26:09.976000+00:00</td>\n",
       "      <td>21.1</td>\n",
       "      <td>2</td>\n",
       "      <td>2</td>\n",
       "    </tr>\n",
       "    <tr>\n",
       "      <th>2</th>\n",
       "      <td>2019-02-02 09:28:10.109000+00:00</td>\n",
       "      <td>21.1</td>\n",
       "      <td>2</td>\n",
       "      <td>2</td>\n",
       "    </tr>\n",
       "    <tr>\n",
       "      <th>3</th>\n",
       "      <td>2019-02-02 09:30:10.460000+00:00</td>\n",
       "      <td>21.1</td>\n",
       "      <td>2</td>\n",
       "      <td>2</td>\n",
       "    </tr>\n",
       "    <tr>\n",
       "      <th>4</th>\n",
       "      <td>2019-02-02 09:32:11.064000+00:00</td>\n",
       "      <td>21.1</td>\n",
       "      <td>2</td>\n",
       "      <td>2</td>\n",
       "    </tr>\n",
       "    <tr>\n",
       "      <th>...</th>\n",
       "      <td>...</td>\n",
       "      <td>...</td>\n",
       "      <td>...</td>\n",
       "      <td>...</td>\n",
       "    </tr>\n",
       "    <tr>\n",
       "      <th>48039</th>\n",
       "      <td>2019-04-30 23:51:39.441000+00:00</td>\n",
       "      <td>22.5</td>\n",
       "      <td>4</td>\n",
       "      <td>30</td>\n",
       "    </tr>\n",
       "    <tr>\n",
       "      <th>48040</th>\n",
       "      <td>2019-04-30 23:53:40.239000+00:00</td>\n",
       "      <td>22.5</td>\n",
       "      <td>4</td>\n",
       "      <td>30</td>\n",
       "    </tr>\n",
       "    <tr>\n",
       "      <th>48041</th>\n",
       "      <td>2019-04-30 23:55:40.399000+00:00</td>\n",
       "      <td>22.5</td>\n",
       "      <td>4</td>\n",
       "      <td>30</td>\n",
       "    </tr>\n",
       "    <tr>\n",
       "      <th>48042</th>\n",
       "      <td>2019-04-30 23:57:40.143000+00:00</td>\n",
       "      <td>22.5</td>\n",
       "      <td>4</td>\n",
       "      <td>30</td>\n",
       "    </tr>\n",
       "    <tr>\n",
       "      <th>48043</th>\n",
       "      <td>2019-04-30 23:59:41.066000+00:00</td>\n",
       "      <td>22.5</td>\n",
       "      <td>4</td>\n",
       "      <td>30</td>\n",
       "    </tr>\n",
       "  </tbody>\n",
       "</table>\n",
       "<p>48044 rows × 4 columns</p>\n",
       "</div>"
      ],
      "text/plain": [
       "                               srtDate  environmental_temperature  Month  Day\n",
       "0     2019-02-02 09:24:09.972000+00:00                       21.1      2    2\n",
       "1     2019-02-02 09:26:09.976000+00:00                       21.1      2    2\n",
       "2     2019-02-02 09:28:10.109000+00:00                       21.1      2    2\n",
       "3     2019-02-02 09:30:10.460000+00:00                       21.1      2    2\n",
       "4     2019-02-02 09:32:11.064000+00:00                       21.1      2    2\n",
       "...                                ...                        ...    ...  ...\n",
       "48039 2019-04-30 23:51:39.441000+00:00                       22.5      4   30\n",
       "48040 2019-04-30 23:53:40.239000+00:00                       22.5      4   30\n",
       "48041 2019-04-30 23:55:40.399000+00:00                       22.5      4   30\n",
       "48042 2019-04-30 23:57:40.143000+00:00                       22.5      4   30\n",
       "48043 2019-04-30 23:59:41.066000+00:00                       22.5      4   30\n",
       "\n",
       "[48044 rows x 4 columns]"
      ]
     },
     "execution_count": 4,
     "metadata": {},
     "output_type": "execute_result"
    }
   ],
   "source": [
    "dfFEB= pd.read_csv(\"../Ivan Compagnucci/EDA-EnterpriseDataAnalytics-project/Data/Prediction data/environmentalFEB.csv\", usecols=[\"srtDate\",\"environmental_temperature\",\"Month\",\"Day\"])\n",
    "dfFEB['srtDate'] = pd.to_datetime(dfFEB['srtDate'],utc=True)\n",
    "dfFEB['Month'] = dfFEB['srtDate'].dt.month\n",
    "\n",
    "dfMAR= pd.read_csv(\"../Ivan Compagnucci/EDA-EnterpriseDataAnalytics-project/Data/Prediction data/environmentalMAR.csv\", usecols=[\"srtDate\",\"environmental_temperature\",\"Month\",\"Day\"])\n",
    "dfMAR['srtDate'] = pd.to_datetime(dfMAR['srtDate'],utc=True)\n",
    "dfMAR['Month'] = dfMAR['srtDate'].dt.month\n",
    "\n",
    "dfAPR= pd.read_csv(\"../Ivan Compagnucci/EDA-EnterpriseDataAnalytics-project/Data/Prediction data/environmentalAPR.csv\", usecols=[\"srtDate\",\"environmental_temperature\",\"Month\",\"Day\"])\n",
    "dfAPR['srtDate'] = pd.to_datetime(dfAPR['srtDate'],utc=True)\n",
    "dfAPR['Month'] = dfAPR['srtDate'].dt.month\n",
    "\n",
    "df= pd.read_csv(\"../Ivan Compagnucci/EDA-EnterpriseDataAnalytics-project/Data/Prediction data/environmental.csv\", usecols=[\"srtDate\",\"environmental_temperature\",\"Month\",\"Day\"])\n",
    "df['srtDate'] = pd.to_datetime(df['srtDate'],utc=True)\n",
    "df['Month'] = df['srtDate'].dt.month\n",
    "\n",
    "df"
   ]
  },
  {
   "cell_type": "markdown",
   "metadata": {},
   "source": [
    "Now thanks to the __train_test_split method__ , we can divide the datasets into two datasets: one for the train (80%) and the remaining data for the test (20%). \n",
    "This procedure will be performed on the .csv file containing all the months and on the 3 .csv files of the separate months."
   ]
  },
  {
   "cell_type": "code",
   "execution_count": 5,
   "metadata": {},
   "outputs": [],
   "source": [
    "from sklearn.model_selection import train_test_split\n",
    "from sklearn.linear_model import LinearRegression\n",
    "from sklearn.metrics import r2_score\n",
    "\n",
    "train_setFEB, test_setFEB = train_test_split(dfFEB, test_size=0.2, random_state=42)\n",
    "\n",
    "train_setMAR, test_setMAR = train_test_split(dfMAR, test_size=0.2, random_state=42)\n",
    "\n",
    "train_setAPR, test_setAPR = train_test_split(dfAPR, test_size=0.2, random_state=42)\n",
    "\n",
    "train_set, test_set = train_test_split(df, test_size=0.2, random_state=42)\n"
   ]
  },
  {
   "cell_type": "code",
   "execution_count": 5,
   "metadata": {},
   "outputs": [],
   "source": [
    "import findspark\n",
    "findspark.init()\n"
   ]
  },
  {
   "cell_type": "code",
   "execution_count": 20,
   "metadata": {},
   "outputs": [
    {
     "ename": "SyntaxError",
     "evalue": "invalid syntax (<ipython-input-20-bd3b41ac65ee>, line 4)",
     "output_type": "error",
     "traceback": [
      "\u001b[1;36m  File \u001b[1;32m\"<ipython-input-20-bd3b41ac65ee>\"\u001b[1;36m, line \u001b[1;32m4\u001b[0m\n\u001b[1;33m    os.environ['PYSPARK_SUBMIT_ARGS'] = \"--master mymaster --total-executor 2 --conf \"spark.driver.extraJavaOptions=-Dhttp.proxyHost=proxy.mycorp.com-Dhttp.proxyPort=1234 -Dhttp.nonProxyHosts=localhost|.mycorp.com|127.0.0.1 -Dhttps.proxyHost=proxy.mycorp.com -Dhttps.proxyPort=1234 -Dhttps.nonProxyHosts=localhost|.mycorp.com|127.0.0.1 pyspark-shell\"\u001b[0m\n\u001b[1;37m                                                                                          ^\u001b[0m\n\u001b[1;31mSyntaxError\u001b[0m\u001b[1;31m:\u001b[0m invalid syntax\n"
     ]
    }
   ],
   "source": [
    "from pyspark import SparkConf, SparkContext\n",
    "import os\n",
    "\n",
    "os.environ['PYSPARK_SUBMIT_ARGS'] = \"--master mymaster --total-executor 2 --conf \"spark.driver.extraJavaOptions=-Dhttp.proxyHost=proxy.mycorp.com-Dhttp.proxyPort=1234 -Dhttp.nonProxyHosts=localhost|.mycorp.com|127.0.0.1 -Dhttps.proxyHost=proxy.mycorp.com -Dhttps.proxyPort=1234 -Dhttps.nonProxyHosts=localhost|.mycorp.com|127.0.0.1 pyspark-shell\"\n",
    "\n",
    "conf = SparkConf().setMaster(\"yarn-client\")\n",
    "sc = SparkContext(conf = conf)"
   ]
  },
  {
   "cell_type": "markdown",
   "metadata": {},
   "source": [
    "\n",
    "Finally, this is a comparison of the average temperatures of the 3 months compared. Obviously in the estimated months there is an increase in temperature as summer is coming."
   ]
  },
  {
   "cell_type": "code",
   "execution_count": 149,
   "metadata": {},
   "outputs": [
    {
     "data": {
      "image/png": "[encoded data removed]",
      "text/plain": [
       "<Figure size 720x504 with 1 Axes>"
      ]
     },
     "metadata": {},
     "output_type": "display_data"
    }
   ],
   "source": [
    "plt.style.use('ggplot')\n",
    "df = pd.read_csv(\"../Ivan Compagnucci/EDA-EnterpriseDataAnalytics-project/Data/Prediction data/environmental.csv\")\n",
    "df['environmental_temperature'].plot(kind='hist',color='blue',edgecolor='black',alpha=0.5,figsize=(10,7))\n",
    "dfAPR['environmental_temperature'].plot(kind='hist',color='red',edgecolor='black',alpha=0.5,figsize=(10,7))\n",
    "\n",
    "plt.legend(labels=['FEB,MAR,APR','MAY,JUN,JUL'])\n",
    "plt.title('Distribution of the months comparison', size=24)\n",
    "plt.xlabel('Height (inches)', size=18)\n",
    "plt.ylabel('Frequency', size=18);"
   ]
  },
  {
   "cell_type": "code",
   "execution_count": 5,
   "metadata": {},
   "outputs": [],
   "source": []
  },
  {
   "cell_type": "code",
   "execution_count": null,
   "metadata": {},
   "outputs": [],
   "source": []
  }
 ],
 "metadata": {
  "kernelspec": {
   "display_name": "Python 3",
   "language": "python",
   "name": "python3"
  },
  "language_info": {
   "codemirror_mode": {
    "name": "ipython",
    "version": 3
   },
   "file_extension": ".py",
   "mimetype": "text/x-python",
   "name": "python",
   "nbconvert_exporter": "python",
   "pygments_lexer": "ipython3",
   "version": "3.7.4"
  }
 },
 "nbformat": 4,
 "nbformat_minor": 2
}

{
 "cells": [
  {
   "cell_type": "markdown",
   "metadata": {},
   "source": [
    "Importing libraries"
   ]
  },
  {
   "cell_type": "code",
   "execution_count": 18,
   "metadata": {},
   "outputs": [],
   "source": [
    "import os\n",
    "import glob\n",
    "import pandas as pd \n",
    "import csv\n",
    "import collections\n",
    "import pprint"
   ]
  },
  {
   "cell_type": "markdown",
   "metadata": {},
   "source": [
    "We display the preprocessed .csv files"
   ]
  },
  {
   "cell_type": "code",
   "execution_count": 4,
   "metadata": {},
   "outputs": [
    {
     "data": {
      "text/plain": [
       "['environmental.csv',\n",
       " 'luxmeter2018.csv',\n",
       " 'luxmeter2019.csv',\n",
       " 'powerelectricity.csv',\n",
       " 'presence2018.csv',\n",
       " 'presence2019.csv',\n",
       " 'reedsensor.csv']"
      ]
     },
     "execution_count": 4,
     "metadata": {},
     "output_type": "execute_result"
    }
   ],
   "source": [
    "data_directory = '../Ivan Compagnucci/EDA-EnterpriseDataAnalytics-project/Data/Merged data/'\n",
    "raw_files = os.listdir(data_directory)\n",
    "\n",
    "raw_files"
   ]
  },
  {
   "cell_type": "markdown",
   "metadata": {},
   "source": [
    "<h3>Now we will verify the integrity of the data of each .csv file</h3> \n",
    "<h4 style=\"color:red\"> Environmental.csv </h4>"
   ]
  },
  {
   "cell_type": "code",
   "execution_count": 15,
   "metadata": {},
   "outputs": [
    {
     "name": "stdout",
     "output_type": "stream",
     "text": [
      "<class 'pandas.core.frame.DataFrame'>\n",
      "RangeIndex: 48173 entries, 0 to 48172\n",
      "Data columns (total 17 columns):\n",
      "idsensor                     48173 non-null object\n",
      "sensortype                   48173 non-null object\n",
      "srtDate                      48173 non-null object\n",
      "absolute_humidity            48173 non-null float64\n",
      "back_front                   48173 non-null float64\n",
      "battery_level                48173 non-null float64\n",
      "device_temperature           48044 non-null float64\n",
      "dew_point                    48044 non-null float64\n",
      "environmental_temperature    48044 non-null float64\n",
      "movement_level               48044 non-null float64\n",
      "orientation                  48044 non-null float64\n",
      "position                     48044 non-null float64\n",
      "posture_tilt                 48044 non-null float64\n",
      "pressure                     48044 non-null float64\n",
      "regular                      48044 non-null float64\n",
      "relative_humidity            48044 non-null float64\n",
      "sequence_number              48044 non-null float64\n",
      "dtypes: float64(14), object(3)\n",
      "memory usage: 6.2+ MB\n",
      "We have 1419 null values in 129 rows\n"
     ]
    }
   ],
   "source": [
    "df = pd.read_csv(\"../Ivan Compagnucci/EDA-EnterpriseDataAnalytics-project/Data/Merged data/environmental.csv\")\n",
    "df.info()\n",
    "singleDataNull = sum(df.isnull().values.ravel())\n",
    "singleRowContainingNull = sum([True for idx,row in df.iterrows() if any(row.isnull())])\n",
    "\n",
    "print('We have',singleDataNull,'null values in',singleRowContainingNull,'rows')"
   ]
  },
  {
   "cell_type": "markdown",
   "metadata": {},
   "source": [
    "Due to the lack of device data in 129 records, I decided to exclude these rows.\n",
    "Since in total only 129 lines out of 48173 contain a null value, we can proceed with the elimination of the latter\n",
    "then saving the .csv file"
   ]
  },
  {
   "cell_type": "code",
   "execution_count": 23,
   "metadata": {},
   "outputs": [
    {
     "name": "stdout",
     "output_type": "stream",
     "text": [
      "environmental.csv successfully saved!\n"
     ]
    }
   ],
   "source": [
    "try:\n",
    "    df.dropna(inplace=True)\n",
    "    df.to_csv('../Ivan Compagnucci/EDA-EnterpriseDataAnalytics-project/Data/Cleaned data/environmental.csv')\n",
    "except OSError:\n",
    "    print (\"Creation of the file failed\")\n",
    "else:\n",
    "    print(\"environmental.csv successfully saved!\")\n",
    "\n",
    "\n"
   ]
  },
  {
   "cell_type": "markdown",
   "metadata": {},
   "source": [
    "<h4 style=\"color:red\"> Powerelectricity.csv </h4>"
   ]
  },
  {
   "cell_type": "code",
   "execution_count": 25,
   "metadata": {},
   "outputs": [
    {
     "name": "stdout",
     "output_type": "stream",
     "text": [
      "<class 'pandas.core.frame.DataFrame'>\n",
      "RangeIndex: 166070 entries, 0 to 166069\n",
      "Data columns (total 5 columns):\n",
      "idsensor          166070 non-null object\n",
      "sensortype        166070 non-null object\n",
      "srtDate           166070 non-null object\n",
      "electric_power    166070 non-null float64\n",
      "rms_current       166070 non-null float64\n",
      "dtypes: float64(2), object(3)\n",
      "memory usage: 6.3+ MB\n",
      "We have 0 null values in 0 rows\n"
     ]
    }
   ],
   "source": [
    "df = pd.read_csv(\"../Ivan Compagnucci/EDA-EnterpriseDataAnalytics-project/Data/Merged data/powerelectricity.csv\")\n",
    "df.info()\n",
    "singleDataNull = sum(df.isnull().values.ravel())\n",
    "singleRowContainingNull = sum([True for idx,row in df.iterrows() if any(row.isnull())])\n",
    "\n",
    "print('We have',singleDataNull,'null values in',singleRowContainingNull,'rows')"
   ]
  },
  {
   "cell_type": "markdown",
   "metadata": {},
   "source": [
    "No null value seems to be present here. We can save the file without any operation"
   ]
  },
  {
   "cell_type": "code",
   "execution_count": 26,
   "metadata": {},
   "outputs": [
    {
     "name": "stdout",
     "output_type": "stream",
     "text": [
      "powerelectricity.csv successfully saved!\n"
     ]
    }
   ],
   "source": [
    "try:\n",
    "    df.to_csv('../Ivan Compagnucci/EDA-EnterpriseDataAnalytics-project/Data/Cleaned data/powerelectricity.csv')\n",
    "except OSError:\n",
    "    print (\"Creation of the file failed\")\n",
    "else:\n",
    "    print(\"powerelectricity.csv successfully saved!\")\n"
   ]
  },
  {
   "cell_type": "markdown",
   "metadata": {},
   "source": [
    "<h4 style=\"color:red\"> Reedsensor.csv </h4>"
   ]
  },
  {
   "cell_type": "code",
   "execution_count": 44,
   "metadata": {},
   "outputs": [
    {
     "name": "stdout",
     "output_type": "stream",
     "text": [
      "<class 'pandas.core.frame.DataFrame'>\n",
      "RangeIndex: 156958 entries, 0 to 156957\n",
      "Data columns (total 7 columns):\n",
      "idsensor              156958 non-null object\n",
      "sensortype            156958 non-null object\n",
      "srtDate               156958 non-null object\n",
      "battery_level         156958 non-null float64\n",
      "device_temperature    156958 non-null float64\n",
      "sequence_number       156958 non-null float64\n",
      "status                156919 non-null float64\n",
      "dtypes: float64(4), object(3)\n",
      "memory usage: 8.4+ MB\n",
      "We have 39 null values in 39 rows\n"
     ]
    }
   ],
   "source": [
    "df = pd.read_csv(\"../Ivan Compagnucci/EDA-EnterpriseDataAnalytics-project/Data/Merged data/reedsensor.csv\")\n",
    "df.info()\n",
    "singleDataNull = sum(df.isnull().values.ravel())\n",
    "singleRowContainingNull = sum([True for idx,row in df.iterrows() if any(row.isnull())])\n",
    "\n",
    "print('We have',singleDataNull,'null values in',singleRowContainingNull,'rows')"
   ]
  },
  {
   "cell_type": "markdown",
   "metadata": {},
   "source": [
    "There seems to be a problem in 39 \"status\" column values, we see in detail:"
   ]
  },
  {
   "cell_type": "code",
   "execution_count": 48,
   "metadata": {},
   "outputs": [
    {
     "data": {
      "text/html": [
       "<div>\n",
       "<style scoped>\n",
       "    .dataframe tbody tr th:only-of-type {\n",
       "        vertical-align: middle;\n",
       "    }\n",
       "\n",
       "    .dataframe tbody tr th {\n",
       "        vertical-align: top;\n",
       "    }\n",
       "\n",
       "    .dataframe thead th {\n",
       "        text-align: right;\n",
       "    }\n",
       "</style>\n",
       "<table border=\"1\" class=\"dataframe\">\n",
       "  <thead>\n",
       "    <tr style=\"text-align: right;\">\n",
       "      <th></th>\n",
       "      <th>idsensor</th>\n",
       "      <th>sensortype</th>\n",
       "      <th>srtDate</th>\n",
       "      <th>battery_level</th>\n",
       "      <th>device_temperature</th>\n",
       "      <th>sequence_number</th>\n",
       "      <th>status</th>\n",
       "    </tr>\n",
       "  </thead>\n",
       "  <tbody>\n",
       "    <tr>\n",
       "      <td>14</td>\n",
       "      <td>jzp://edv#0126.0000</td>\n",
       "      <td>ReedSensor</td>\n",
       "      <td>2018-03-01T01:11:11.397+01:00</td>\n",
       "      <td>3.55</td>\n",
       "      <td>13.0</td>\n",
       "      <td>0.0</td>\n",
       "      <td>NaN</td>\n",
       "    </tr>\n",
       "    <tr>\n",
       "      <td>4539</td>\n",
       "      <td>jzp://edv#0126.0000</td>\n",
       "      <td>ReedSensor</td>\n",
       "      <td>2018-03-03T13:10:29.557+01:00</td>\n",
       "      <td>3.55</td>\n",
       "      <td>12.0</td>\n",
       "      <td>0.0</td>\n",
       "      <td>NaN</td>\n",
       "    </tr>\n",
       "    <tr>\n",
       "      <td>8709</td>\n",
       "      <td>jzp://edv#0126.0000</td>\n",
       "      <td>ReedSensor</td>\n",
       "      <td>2018-03-06T01:11:40.630+01:00</td>\n",
       "      <td>3.55</td>\n",
       "      <td>12.0</td>\n",
       "      <td>0.0</td>\n",
       "      <td>NaN</td>\n",
       "    </tr>\n",
       "    <tr>\n",
       "      <td>13447</td>\n",
       "      <td>jzp://edv#0126.0000</td>\n",
       "      <td>ReedSensor</td>\n",
       "      <td>2018-03-08T13:10:47.485+01:00</td>\n",
       "      <td>3.55</td>\n",
       "      <td>14.0</td>\n",
       "      <td>0.0</td>\n",
       "      <td>NaN</td>\n",
       "    </tr>\n",
       "    <tr>\n",
       "      <td>18173</td>\n",
       "      <td>jzp://edv#0126.0000</td>\n",
       "      <td>ReedSensor</td>\n",
       "      <td>2018-03-11T01:11:45.825+01:00</td>\n",
       "      <td>3.55</td>\n",
       "      <td>13.0</td>\n",
       "      <td>0.0</td>\n",
       "      <td>NaN</td>\n",
       "    </tr>\n",
       "  </tbody>\n",
       "</table>\n",
       "</div>"
      ],
      "text/plain": [
       "                  idsensor  sensortype                        srtDate  \\\n",
       "14     jzp://edv#0126.0000  ReedSensor  2018-03-01T01:11:11.397+01:00   \n",
       "4539   jzp://edv#0126.0000  ReedSensor  2018-03-03T13:10:29.557+01:00   \n",
       "8709   jzp://edv#0126.0000  ReedSensor  2018-03-06T01:11:40.630+01:00   \n",
       "13447  jzp://edv#0126.0000  ReedSensor  2018-03-08T13:10:47.485+01:00   \n",
       "18173  jzp://edv#0126.0000  ReedSensor  2018-03-11T01:11:45.825+01:00   \n",
       "\n",
       "       battery_level  device_temperature  sequence_number  status  \n",
       "14              3.55                13.0              0.0     NaN  \n",
       "4539            3.55                12.0              0.0     NaN  \n",
       "8709            3.55                12.0              0.0     NaN  \n",
       "13447           3.55                14.0              0.0     NaN  \n",
       "18173           3.55                13.0              0.0     NaN  "
      ]
     },
     "execution_count": 48,
     "metadata": {},
     "output_type": "execute_result"
    }
   ],
   "source": [
    "df_null_status = df[df['status'].isnull()]\n",
    "df_null_status.head()"
   ]
  },
  {
   "cell_type": "markdown",
   "metadata": {},
   "source": [
    "Now let's look at the behavior of the \"status\" value when it is not null"
   ]
  },
  {
   "cell_type": "code",
   "execution_count": 51,
   "metadata": {},
   "outputs": [
    {
     "data": {
      "text/html": [
       "<div>\n",
       "<style scoped>\n",
       "    .dataframe tbody tr th:only-of-type {\n",
       "        vertical-align: middle;\n",
       "    }\n",
       "\n",
       "    .dataframe tbody tr th {\n",
       "        vertical-align: top;\n",
       "    }\n",
       "\n",
       "    .dataframe thead th {\n",
       "        text-align: right;\n",
       "    }\n",
       "</style>\n",
       "<table border=\"1\" class=\"dataframe\">\n",
       "  <thead>\n",
       "    <tr style=\"text-align: right;\">\n",
       "      <th></th>\n",
       "      <th></th>\n",
       "      <th>idsensor</th>\n",
       "      <th>sensortype</th>\n",
       "      <th>srtDate</th>\n",
       "      <th>battery_level</th>\n",
       "      <th>device_temperature</th>\n",
       "      <th>sequence_number</th>\n",
       "    </tr>\n",
       "    <tr>\n",
       "      <th>status</th>\n",
       "      <th></th>\n",
       "      <th></th>\n",
       "      <th></th>\n",
       "      <th></th>\n",
       "      <th></th>\n",
       "      <th></th>\n",
       "      <th></th>\n",
       "    </tr>\n",
       "  </thead>\n",
       "  <tbody>\n",
       "    <tr>\n",
       "      <td>0.0</td>\n",
       "      <td>count</td>\n",
       "      <td>152979</td>\n",
       "      <td>152979</td>\n",
       "      <td>152979</td>\n",
       "      <td>152979</td>\n",
       "      <td>152979</td>\n",
       "      <td>152979</td>\n",
       "    </tr>\n",
       "    <tr>\n",
       "      <td>1.0</td>\n",
       "      <td>count</td>\n",
       "      <td>3940</td>\n",
       "      <td>3940</td>\n",
       "      <td>3940</td>\n",
       "      <td>3940</td>\n",
       "      <td>3940</td>\n",
       "      <td>3940</td>\n",
       "    </tr>\n",
       "  </tbody>\n",
       "</table>\n",
       "</div>"
      ],
      "text/plain": [
       "              idsensor  sensortype  srtDate  battery_level  \\\n",
       "status                                                       \n",
       "0.0    count    152979      152979   152979         152979   \n",
       "1.0    count      3940        3940     3940           3940   \n",
       "\n",
       "              device_temperature  sequence_number  \n",
       "status                                             \n",
       "0.0    count              152979           152979  \n",
       "1.0    count                3940             3940  "
      ]
     },
     "execution_count": 51,
     "metadata": {},
     "output_type": "execute_result"
    }
   ],
   "source": [
    "df.groupby('status').agg(['count']).stack()"
   ]
  },
  {
   "cell_type": "markdown",
   "metadata": {},
   "source": [
    "In addition to the 39 null values, there are 3940 \"status\" values ​​set to 1, so this value should indicate something specific and therefore we cannot set the 39 null values ​​to 0 to solve the problem. \n",
    "Then we will save the new file with the null values ​​setted with a marker that we will indicate with \"*\""
   ]
  },
  {
   "cell_type": "code",
   "execution_count": 56,
   "metadata": {},
   "outputs": [
    {
     "name": "stdout",
     "output_type": "stream",
     "text": [
      "<class 'pandas.core.frame.DataFrame'>\n",
      "RangeIndex: 156958 entries, 0 to 156957\n",
      "Data columns (total 7 columns):\n",
      "idsensor              156958 non-null object\n",
      "sensortype            156958 non-null object\n",
      "srtDate               156958 non-null object\n",
      "battery_level         156958 non-null float64\n",
      "device_temperature    156958 non-null float64\n",
      "sequence_number       156958 non-null float64\n",
      "status                156958 non-null object\n",
      "dtypes: float64(3), object(4)\n",
      "memory usage: 8.4+ MB\n"
     ]
    },
    {
     "data": {
      "text/html": [
       "<div>\n",
       "<style scoped>\n",
       "    .dataframe tbody tr th:only-of-type {\n",
       "        vertical-align: middle;\n",
       "    }\n",
       "\n",
       "    .dataframe tbody tr th {\n",
       "        vertical-align: top;\n",
       "    }\n",
       "\n",
       "    .dataframe thead th {\n",
       "        text-align: right;\n",
       "    }\n",
       "</style>\n",
       "<table border=\"1\" class=\"dataframe\">\n",
       "  <thead>\n",
       "    <tr style=\"text-align: right;\">\n",
       "      <th></th>\n",
       "      <th></th>\n",
       "      <th>idsensor</th>\n",
       "      <th>sensortype</th>\n",
       "      <th>srtDate</th>\n",
       "      <th>battery_level</th>\n",
       "      <th>device_temperature</th>\n",
       "      <th>sequence_number</th>\n",
       "    </tr>\n",
       "    <tr>\n",
       "      <th>status</th>\n",
       "      <th></th>\n",
       "      <th></th>\n",
       "      <th></th>\n",
       "      <th></th>\n",
       "      <th></th>\n",
       "      <th></th>\n",
       "      <th></th>\n",
       "    </tr>\n",
       "  </thead>\n",
       "  <tbody>\n",
       "    <tr>\n",
       "      <td>0.0</td>\n",
       "      <td>count</td>\n",
       "      <td>152979</td>\n",
       "      <td>152979</td>\n",
       "      <td>152979</td>\n",
       "      <td>152979</td>\n",
       "      <td>152979</td>\n",
       "      <td>152979</td>\n",
       "    </tr>\n",
       "    <tr>\n",
       "      <td>1.0</td>\n",
       "      <td>count</td>\n",
       "      <td>3940</td>\n",
       "      <td>3940</td>\n",
       "      <td>3940</td>\n",
       "      <td>3940</td>\n",
       "      <td>3940</td>\n",
       "      <td>3940</td>\n",
       "    </tr>\n",
       "    <tr>\n",
       "      <td>*</td>\n",
       "      <td>count</td>\n",
       "      <td>39</td>\n",
       "      <td>39</td>\n",
       "      <td>39</td>\n",
       "      <td>39</td>\n",
       "      <td>39</td>\n",
       "      <td>39</td>\n",
       "    </tr>\n",
       "  </tbody>\n",
       "</table>\n",
       "</div>"
      ],
      "text/plain": [
       "              idsensor  sensortype  srtDate  battery_level  \\\n",
       "status                                                       \n",
       "0.0    count    152979      152979   152979         152979   \n",
       "1.0    count      3940        3940     3940           3940   \n",
       "*      count        39          39       39             39   \n",
       "\n",
       "              device_temperature  sequence_number  \n",
       "status                                             \n",
       "0.0    count              152979           152979  \n",
       "1.0    count                3940             3940  \n",
       "*      count                  39               39  "
      ]
     },
     "execution_count": 56,
     "metadata": {},
     "output_type": "execute_result"
    }
   ],
   "source": [
    "df.fillna(\"*\",inplace=True)\n",
    "df.info()\n",
    "df.groupby('status').agg(['count']).stack()"
   ]
  },
  {
   "cell_type": "markdown",
   "metadata": {},
   "source": [
    "Now let's save the file cleaned"
   ]
  },
  {
   "cell_type": "code",
   "execution_count": 57,
   "metadata": {},
   "outputs": [
    {
     "name": "stdout",
     "output_type": "stream",
     "text": [
      "powerelectricity.csv successfully saved!\n"
     ]
    }
   ],
   "source": [
    "try:\n",
    "    df.to_csv('../Ivan Compagnucci/EDA-EnterpriseDataAnalytics-project/Data/Cleaned data/reedsensor.csv')\n",
    "except OSError:\n",
    "    print (\"Creation of the file failed\")\n",
    "else:\n",
    "    print(\"powerelectricity.csv successfully saved!\")"
   ]
  },
  {
   "cell_type": "code",
   "execution_count": null,
   "metadata": {},
   "outputs": [],
   "source": [
    "<h4 style=\"color:red\"> luxmeter2018.csv </h4> and "
   ]
  },
  {
   "cell_type": "code",
   "execution_count": null,
   "metadata": {},
   "outputs": [],
   "source": []
  },
  {
   "cell_type": "code",
   "execution_count": null,
   "metadata": {},
   "outputs": [],
   "source": []
  },
  {
   "cell_type": "code",
   "execution_count": null,
   "metadata": {},
   "outputs": [],
   "source": []
  },
  {
   "cell_type": "code",
   "execution_count": null,
   "metadata": {},
   "outputs": [],
   "source": []
  },
  {
   "cell_type": "code",
   "execution_count": null,
   "metadata": {},
   "outputs": [],
   "source": []
  },
  {
   "cell_type": "code",
   "execution_count": null,
   "metadata": {},
   "outputs": [],
   "source": []
  },
  {
   "cell_type": "code",
   "execution_count": null,
   "metadata": {},
   "outputs": [],
   "source": []
  },
  {
   "cell_type": "code",
   "execution_count": null,
   "metadata": {},
   "outputs": [],
   "source": []
  },
  {
   "cell_type": "code",
   "execution_count": null,
   "metadata": {},
   "outputs": [],
   "source": []
  },
  {
   "cell_type": "code",
   "execution_count": null,
   "metadata": {},
   "outputs": [],
   "source": []
  },
  {
   "cell_type": "code",
   "execution_count": null,
   "metadata": {},
   "outputs": [],
   "source": []
  },
  {
   "cell_type": "code",
   "execution_count": null,
   "metadata": {},
   "outputs": [],
   "source": []
  },
  {
   "cell_type": "code",
   "execution_count": null,
   "metadata": {},
   "outputs": [],
   "source": []
  },
  {
   "cell_type": "code",
   "execution_count": null,
   "metadata": {},
   "outputs": [],
   "source": []
  },
  {
   "cell_type": "code",
   "execution_count": null,
   "metadata": {},
   "outputs": [],
   "source": []
  },
  {
   "cell_type": "code",
   "execution_count": null,
   "metadata": {},
   "outputs": [],
   "source": []
  },
  {
   "cell_type": "code",
   "execution_count": null,
   "metadata": {},
   "outputs": [],
   "source": []
  },
  {
   "cell_type": "code",
   "execution_count": null,
   "metadata": {},
   "outputs": [],
   "source": []
  },
  {
   "cell_type": "markdown",
   "metadata": {},
   "source": [
    "It seems that all status values ​​are set to 0 except for 39 rows"
   ]
  },
  {
   "cell_type": "code",
   "execution_count": null,
   "metadata": {},
   "outputs": [],
   "source": []
  },
  {
   "cell_type": "code",
   "execution_count": null,
   "metadata": {},
   "outputs": [],
   "source": []
  },
  {
   "cell_type": "code",
   "execution_count": null,
   "metadata": {},
   "outputs": [],
   "source": []
  },
  {
   "cell_type": "code",
   "execution_count": null,
   "metadata": {},
   "outputs": [],
   "source": []
  },
  {
   "cell_type": "code",
   "execution_count": null,
   "metadata": {},
   "outputs": [],
   "source": []
  },
  {
   "cell_type": "code",
   "execution_count": null,
   "metadata": {},
   "outputs": [],
   "source": []
  },
  {
   "cell_type": "code",
   "execution_count": null,
   "metadata": {},
   "outputs": [],
   "source": []
  },
  {
   "cell_type": "code",
   "execution_count": null,
   "metadata": {},
   "outputs": [],
   "source": []
  },
  {
   "cell_type": "code",
   "execution_count": null,
   "metadata": {},
   "outputs": [],
   "source": []
  },
  {
   "cell_type": "code",
   "execution_count": null,
   "metadata": {},
   "outputs": [],
   "source": []
  },
  {
   "cell_type": "code",
   "execution_count": null,
   "metadata": {},
   "outputs": [],
   "source": []
  },
  {
   "cell_type": "code",
   "execution_count": null,
   "metadata": {},
   "outputs": [],
   "source": []
  },
  {
   "cell_type": "code",
   "execution_count": null,
   "metadata": {},
   "outputs": [],
   "source": []
  },
  {
   "cell_type": "code",
   "execution_count": null,
   "metadata": {},
   "outputs": [],
   "source": []
  },
  {
   "cell_type": "code",
   "execution_count": null,
   "metadata": {},
   "outputs": [],
   "source": []
  },
  {
   "cell_type": "code",
   "execution_count": null,
   "metadata": {},
   "outputs": [],
   "source": []
  },
  {
   "cell_type": "code",
   "execution_count": null,
   "metadata": {},
   "outputs": [],
   "source": []
  },
  {
   "cell_type": "code",
   "execution_count": null,
   "metadata": {},
   "outputs": [],
   "source": []
  },
  {
   "cell_type": "code",
   "execution_count": null,
   "metadata": {},
   "outputs": [],
   "source": []
  },
  {
   "cell_type": "code",
   "execution_count": null,
   "metadata": {},
   "outputs": [],
   "source": []
  },
  {
   "cell_type": "code",
   "execution_count": null,
   "metadata": {},
   "outputs": [],
   "source": []
  },
  {
   "cell_type": "code",
   "execution_count": null,
   "metadata": {},
   "outputs": [],
   "source": []
  },
  {
   "cell_type": "code",
   "execution_count": null,
   "metadata": {},
   "outputs": [],
   "source": []
  },
  {
   "cell_type": "code",
   "execution_count": null,
   "metadata": {},
   "outputs": [],
   "source": []
  },
  {
   "cell_type": "code",
   "execution_count": null,
   "metadata": {},
   "outputs": [],
   "source": []
  },
  {
   "cell_type": "code",
   "execution_count": null,
   "metadata": {},
   "outputs": [],
   "source": []
  },
  {
   "cell_type": "code",
   "execution_count": null,
   "metadata": {},
   "outputs": [],
   "source": []
  },
  {
   "cell_type": "code",
   "execution_count": null,
   "metadata": {},
   "outputs": [],
   "source": []
  },
  {
   "cell_type": "code",
   "execution_count": null,
   "metadata": {},
   "outputs": [],
   "source": []
  },
  {
   "cell_type": "code",
   "execution_count": null,
   "metadata": {},
   "outputs": [],
   "source": []
  },
  {
   "cell_type": "code",
   "execution_count": null,
   "metadata": {},
   "outputs": [],
   "source": []
  },
  {
   "cell_type": "code",
   "execution_count": null,
   "metadata": {},
   "outputs": [],
   "source": []
  },
  {
   "cell_type": "code",
   "execution_count": null,
   "metadata": {},
   "outputs": [],
   "source": []
  },
  {
   "cell_type": "code",
   "execution_count": null,
   "metadata": {},
   "outputs": [],
   "source": []
  },
  {
   "cell_type": "code",
   "execution_count": null,
   "metadata": {},
   "outputs": [],
   "source": []
  },
  {
   "cell_type": "code",
   "execution_count": null,
   "metadata": {},
   "outputs": [],
   "source": []
  },
  {
   "cell_type": "code",
   "execution_count": null,
   "metadata": {},
   "outputs": [],
   "source": []
  },
  {
   "cell_type": "code",
   "execution_count": null,
   "metadata": {},
   "outputs": [],
   "source": []
  },
  {
   "cell_type": "code",
   "execution_count": null,
   "metadata": {},
   "outputs": [],
   "source": []
  }
 ],
 "metadata": {
  "kernelspec": {
   "display_name": "Python 3",
   "language": "python",
   "name": "python3"
  },
  "language_info": {
   "codemirror_mode": {
    "name": "ipython",
    "version": 3
   },
   "file_extension": ".py",
   "mimetype": "text/x-python",
   "name": "python",
   "nbconvert_exporter": "python",
   "pygments_lexer": "ipython3",
   "version": "3.7.4"
  }
 },
 "nbformat": 4,
 "nbformat_minor": 2
}
